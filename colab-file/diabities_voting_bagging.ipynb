{
  "nbformat": 4,
  "nbformat_minor": 0,
  "metadata": {
    "colab": {
      "provenance": []
    },
    "kernelspec": {
      "name": "python3",
      "display_name": "Python 3"
    },
    "language_info": {
      "name": "python"
    }
  },
  "cells": [
    {
      "cell_type": "code",
      "execution_count": 4,
      "metadata": {
        "colab": {
          "base_uri": "https://localhost:8080/"
        },
        "id": "7gsPSAZwYbEa",
        "outputId": "5e2bebb3-4fbd-4a10-8c41-51e3e50bc21a"
      },
      "outputs": [
        {
          "output_type": "stream",
          "name": "stdout",
          "text": [
            "Best Parameters: {'kernel': 'linear', 'gamma': 0.01, 'degree': 3, 'C': 1.0}\n"
          ]
        }
      ],
      "source": [
        "from sklearn.model_selection import RandomizedSearchCV\n",
        "from sklearn.preprocessing import StandardScaler\n",
        "from sklearn.svm import SVC\n",
        "import numpy as np\n",
        "import numpy as np\n",
        "import pandas as pd\n",
        "from sklearn.model_selection import train_test_split, GridSearchCV\n",
        "from sklearn.preprocessing import StandardScaler\n",
        "from sklearn.metrics import accuracy_score, confusion_matrix\n",
        "from sklearn.linear_model import LogisticRegression\n",
        "from sklearn.tree import DecisionTreeClassifier\n",
        "from sklearn.svm import SVC\n",
        "from sklearn.ensemble import RandomForestClassifier, VotingClassifier, StackingClassifier\n",
        "from sklearn.neighbors import KNeighborsClassifier\n",
        "from sklearn.naive_bayes import GaussianNB\n",
        "\n",
        "import matplotlib.pyplot as plt\n",
        "import seaborn as sns\n",
        "\n",
        "df=pd.read_csv('diabetes.csv')\n",
        "\n",
        "# Scale features for better performance\n",
        "scaler = StandardScaler()\n",
        "X=df.drop(['Outcome'],axis=1)\n",
        "y=df['Outcome']\n",
        "# Split the data into training and testing sets\n",
        "X_train, X_test, y_train, y_test = train_test_split(X, y, test_size=0.2, random_state=42)\n",
        "X_train_scaled = scaler.fit_transform(X_train)\n",
        "X_test_scaled = scaler.transform(X_test)\n",
        "\n",
        "# Define parameter grid (reduced size)\n",
        "param_dist = {\n",
        "    'C': np.logspace(-2, 2, 5),  # [0.01, 0.1, 1, 10, 100]\n",
        "    'gamma': np.logspace(-3, 1, 5),  # [0.001, 0.01, 0.1, 1, 10]\n",
        "    'kernel': ['linear', 'rbf', 'poly'],\n",
        "    'degree': [2, 3]  # Only used if kernel='poly'\n",
        "}\n",
        "\n",
        "# Use RandomizedSearchCV for faster tuning\n",
        "random_search = RandomizedSearchCV(SVC(), param_distributions=param_dist, n_iter=10, cv=3, n_jobs=-1, random_state=42)\n",
        "random_search.fit(X_train_scaled, y_train)\n",
        "\n",
        "# Get the best SVM model\n",
        "best_svm = random_search.best_estimator_\n",
        "\n",
        "# Print best parameters\n",
        "print(\"Best Parameters:\", random_search.best_params_)\n"
      ]
    },
    {
      "cell_type": "code",
      "source": [
        "svm1 = SVC(kernel='linear', C=1)\n",
        "svm2 = SVC(kernel='rbf', C=1, gamma=0.1)\n",
        "svm3 = SVC(kernel='poly', C=1, degree=2)\n",
        "\n",
        "# Step 3: Create a VotingClassifier ensemble\n",
        "ensemble = VotingClassifier(estimators=[\n",
        "    ('svm1', svm1),\n",
        "    ('svm2', svm2),\n",
        "    ('svm3', svm3),\n",
        "    ('best_svm', best_svm)\n",
        "], voting='hard')\n",
        "\n",
        "# Train the ensemble model\n",
        "ensemble.fit(X_train_scaled, y_train)\n",
        "\n",
        "# Step 4: Make predictions and evaluate accuracy\n",
        "y_pred = ensemble.predict(X_test_scaled)\n",
        "accuracy = accuracy_score(y_test, y_pred)\n",
        "\n",
        "print(\"Ensemble Accuracy:\", accuracy)"
      ],
      "metadata": {
        "colab": {
          "base_uri": "https://localhost:8080/"
        },
        "id": "NxJjvMQOYcnV",
        "outputId": "0a3c58d5-9adb-46d4-b41b-1fd4f0522171"
      },
      "execution_count": 5,
      "outputs": [
        {
          "output_type": "stream",
          "name": "stdout",
          "text": [
            "Ensemble Accuracy: 0.7337662337662337\n"
          ]
        }
      ]
    },
    {
      "cell_type": "code",
      "source": [
        "import pandas as pd\n",
        "from sklearn.svm import SVC\n",
        "from sklearn.ensemble import VotingClassifier\n",
        "from sklearn.model_selection import train_test_split, RandomizedSearchCV\n",
        "from sklearn.metrics import accuracy_score\n",
        "from sklearn.preprocessing import StandardScaler\n",
        "import numpy as np\n",
        "\n",
        "# Load dataset\n",
        "df = pd.read_csv('diabetes.csv')\n",
        "\n",
        "# Split features and target\n",
        "X = df.drop(['Outcome'], axis=1)\n",
        "y = df['Outcome']\n",
        "\n",
        "# Split the data into training and testing sets\n",
        "X_train, X_test, y_train, y_test = train_test_split(X, y, test_size=0.2, random_state=42)\n",
        "\n",
        "# Scale features\n",
        "scaler = StandardScaler()\n",
        "X_train_scaled = scaler.fit_transform(X_train)\n",
        "X_test_scaled = scaler.transform(X_test)\n",
        "\n",
        "# Define hyperparameter grid for RandomizedSearchCV (broader search space)\n",
        "param_dist = {\n",
        "    'C': np.logspace(-2, 3, 6),  # More values for C\n",
        "    'gamma': np.logspace(-3, 2, 6),  # More values for gamma\n",
        "    'kernel': ['linear', 'rbf', 'poly'],\n",
        "    'degree': [2, 3]  # Include higher degree for polynomial kernel\n",
        "}\n",
        "\n",
        "# Use RandomizedSearchCV for hyperparameter tuning\n",
        "random_search = RandomizedSearchCV(SVC(), param_distributions=param_dist, n_iter=15, cv=5, n_jobs=-1, random_state=42)\n",
        "random_search.fit(X_train_scaled, y_train)\n",
        "\n",
        "# Get the best SVM model\n",
        "best_svm = random_search.best_estimator_\n",
        "\n",
        "# Print best parameters\n",
        "print(\"Best Parameters:\", random_search.best_params_)\n",
        "\n",
        "# Define SVM classifiers with the best parameters for each kernel type\n",
        "svm1 = SVC(kernel='linear', C=best_svm.C)\n",
        "svm2 = SVC(kernel='rbf', C=best_svm.C, gamma=best_svm.gamma)\n",
        "svm3 = SVC(kernel='poly', C=best_svm.C, degree=best_svm.degree)\n",
        "\n",
        "# Create a VotingClassifier ensemble\n",
        "ensemble = VotingClassifier(estimators=[\n",
        "    ('svm1', svm1),\n",
        "    ('svm2', svm2),\n",
        "    ('svm3', svm3),\n",
        "    ('best_svm', best_svm)\n",
        "], voting='hard')\n",
        "\n",
        "# Train the ensemble model\n",
        "ensemble.fit(X_train_scaled, y_train)\n",
        "\n",
        "# Evaluate on the test set\n",
        "y_pred = ensemble.predict(X_test_scaled)\n",
        "accuracy = accuracy_score(y_test, y_pred)\n",
        "\n",
        "print(\"Ensemble Accuracy:\", accuracy)\n"
      ],
      "metadata": {
        "colab": {
          "base_uri": "https://localhost:8080/"
        },
        "id": "pt2aIm4dYgEW",
        "outputId": "cc7490a9-aeb4-4d45-cdc5-b96824dcce38"
      },
      "execution_count": 6,
      "outputs": [
        {
          "output_type": "stream",
          "name": "stdout",
          "text": [
            "Best Parameters: {'kernel': 'linear', 'gamma': 0.01, 'degree': 3, 'C': 1000.0}\n",
            "Ensemble Accuracy: 0.7662337662337663\n"
          ]
        }
      ]
    },
    {
      "cell_type": "code",
      "source": [
        "import pandas as pd\n",
        "from sklearn.svm import SVC\n",
        "from sklearn.ensemble import VotingClassifier\n",
        "from sklearn.model_selection import train_test_split, RandomizedSearchCV\n",
        "from sklearn.metrics import accuracy_score\n",
        "from sklearn.preprocessing import StandardScaler\n",
        "import numpy as np\n",
        "\n",
        "# Load dataset\n",
        "df = pd.read_csv('diabetes.csv')\n",
        "\n",
        "# Split features and target\n",
        "X = df.drop(['Outcome'], axis=1)\n",
        "y = df['Outcome']\n",
        "\n",
        "# Split the data into training and testing sets\n",
        "X_train, X_test, y_train, y_test = train_test_split(X, y, test_size=0.2, random_state=42)\n",
        "\n",
        "# Scale features\n",
        "scaler = StandardScaler()\n",
        "X_train_scaled = scaler.fit_transform(X_train)\n",
        "X_test_scaled = scaler.transform(X_test)\n",
        "\n",
        "# Define a smaller hyperparameter grid for RandomizedSearchCV\n",
        "param_dist = {\n",
        "    'C': np.logspace(-2, 2, 3),  # Smaller range for C\n",
        "    'gamma': np.logspace(-3, 1, 2),  # Smaller range for gamma\n",
        "    'kernel': ['linear', 'rbf'],  # Focus on linear and rbf for speed\n",
        "    'degree': [2,3,4]  # Include lower degrees for the poly kernel\n",
        "}\n",
        "\n",
        "# Use RandomizedSearchCV for hyperparameter tuning\n",
        "random_search = RandomizedSearchCV(SVC(), param_distributions=param_dist, n_iter=5, cv=3, n_jobs=-1, random_state=42)\n",
        "random_search.fit(X_train_scaled, y_train)\n",
        "\n",
        "# Get the best SVM model\n",
        "best_svm = random_search.best_estimator_\n",
        "\n",
        "# Print best parameters\n",
        "print(\"Best Parameters:\", random_search.best_params_)\n",
        "\n",
        "# Define SVM classifiers with the best parameters for each kernel type\n",
        "svm1 = SVC(kernel='linear', C=best_svm.C)\n",
        "svm2 = SVC(kernel='rbf', C=best_svm.C, gamma=best_svm.gamma)\n",
        "svm3 = SVC(kernel='poly', C=best_svm.C, degree=best_svm.degree)\n",
        "\n",
        "# Create a VotingClassifier ensemble\n",
        "ensemble = VotingClassifier(estimators=[\n",
        "    ('svm1', svm1),\n",
        "    ('svm2', svm2),\n",
        "    ('svm3', svm3),\n",
        "    ('best_svm', best_svm)\n",
        "], voting='hard')\n",
        "\n",
        "# Train the ensemble model\n",
        "ensemble.fit(X_train_scaled, y_train)\n",
        "\n",
        "# Evaluate on the test set\n",
        "y_pred = ensemble.predict(X_test_scaled)\n",
        "accuracy = accuracy_score(y_test, y_pred)\n",
        "\n",
        "print(\"Ensemble Accuracy:\", accuracy)\n"
      ],
      "metadata": {
        "colab": {
          "base_uri": "https://localhost:8080/"
        },
        "id": "LuF_fKG-Yj2O",
        "outputId": "a2f44ae7-07cb-4243-8f29-d46028a0a7dc"
      },
      "execution_count": 7,
      "outputs": [
        {
          "output_type": "stream",
          "name": "stdout",
          "text": [
            "Best Parameters: {'kernel': 'linear', 'gamma': 0.001, 'degree': 3, 'C': 1.0}\n",
            "Ensemble Accuracy: 0.7597402597402597\n"
          ]
        }
      ]
    }
  ]
}